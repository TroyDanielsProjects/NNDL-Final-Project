{
 "cells": [
  {
   "cell_type": "markdown",
   "id": "33ecb840",
   "metadata": {},
   "source": [
    "# Imports"
   ]
  },
  {
   "cell_type": "code",
   "execution_count": 8,
   "id": "7b3b3ce7",
   "metadata": {},
   "outputs": [],
   "source": [
    "import os\n",
    "import random\n",
    "import matplotlib.pyplot as plt\n",
    "import numpy as np\n",
    "import pandas as pd\n",
    "\n",
    "import torch\n",
    "import torch.nn as nn\n",
    "import torch.nn.functional as F\n",
    "import torch.optim as optim\n",
    "\n",
    "from torchvision.models import resnet50\n",
    "\n",
    "from torch.utils.data import Dataset, DataLoader\n",
    "from torchvision import transforms\n",
    "from PIL import Image\n",
    "from IPython.display import display\n",
    "\n",
    "from transformers import BertTokenizer, BertModel\n",
    "\n"
   ]
  },
  {
   "cell_type": "markdown",
   "id": "6c83f8b2",
   "metadata": {},
   "source": [
    "# Set up dataloader and visualize data\n",
    "\n",
    "\n",
    "This is the dataset given to us for the class compition. Within the Train_data, the format is as folows: (csv)\n",
    "\n",
    "- Image: name of image in teh train_images directory\n",
    "- superclass_index: index of a parent class (i.e. dog) that is mappend in superclass_mapping\n",
    "- Isubclass_index: index of child class (i.e. german shepard) that is mapped in subclass_mapping\n",
    "- description: a desctiption of the image in the following format\n",
    "    - \"nature photograph of a dog, specifically a Maltese dog, Maltese terrier, Maltese, centered composition, photorealistic, 8k, the animal is fully visible within frame and not cut off\"\n"
   ]
  },
  {
   "cell_type": "markdown",
   "id": "5472a165",
   "metadata": {},
   "source": [
    "## Create Pytorch Dataset"
   ]
  },
  {
   "cell_type": "code",
   "execution_count": 17,
   "id": "e01e1cfa",
   "metadata": {},
   "outputs": [],
   "source": [
    "\n",
    "class MultiClassImageDataset(Dataset):\n",
    "    \"\"\"\n",
    "    This creates a dataset (not dataloader) for the data given and the contrastive learning task.\n",
    "    \"\"\"\n",
    "\n",
    "    def __init__(self, ann_df, img_dir, transform=None): \n",
    "        \"\"\"\n",
    "        Create the dataset\n",
    "\n",
    "        Args:\n",
    "            ann_df (Dataframe): Data that is read the train_data.csv (see format above)\n",
    "            img_dir (str): Directiory of train images\n",
    "            transform (torch.transformations): list of transformations to be appled on each image (i.e. cropping, noise etc.) (not contraint to transformations\n",
    "            meant for noise i.e. resize, convert to tensor, ...)\n",
    "        \"\"\"\n",
    "        self.ann_df = ann_df \n",
    "        self.img_dir = img_dir\n",
    "        self.transform = transform\n",
    "        # create the tokenizer for the text_encoder\n",
    "        self.tokenizer = BertTokenizer.from_pretrained('bert-base-uncased')\n",
    "\n",
    "    def __len__(self):\n",
    "        \"\"\"\n",
    "        returns the length of the dataset (number of training examples). Needed for Pytorch\n",
    "        \"\"\"\n",
    "        return len(self.ann_df)\n",
    "\n",
    "    def __getitem__(self, idx):\n",
    "        \"\"\"\n",
    "        Gets an training example from the dataset. (with approiate transformations and tokenizations)\n",
    "\n",
    "        Args:\n",
    "            idx (int): index of training example to retrieve\n",
    "        \"\"\"\n",
    "        # get the correct image from the train_images directory and read it in a usable format\n",
    "        img_name = self.ann_df['image'][idx]\n",
    "        img_path = os.path.join(self.img_dir, img_name)\n",
    "        image = Image.open(img_path).convert('RGB')\n",
    "        # For contrastive learning, we are interested in the string explaining the image (description)\n",
    "        description = self.ann_df['description'][idx]\n",
    "        # Apply all transformations (cropping, masking, resize, ...) to the image\n",
    "        if self.transform:\n",
    "            image = self.transform(image)\n",
    "        # Tokenize the description so that it can be used by the text_encoder (keep in mind attenton_mask is needed for encoder). \n",
    "        # set max length, truncate if over and return pytorch-tensors for each tokenization\n",
    "        tokenized = self.tokenizer(description, padding='max_length', truncation=True, \n",
    "                                  max_length=100, return_tensors='pt')\n",
    "        \n",
    "        return image, tokenized['input_ids'].squeeze(), tokenized['attention_mask'].squeeze()\n"
   ]
  },
  {
   "cell_type": "markdown",
   "id": "83143856",
   "metadata": {},
   "source": [
    "## Visualze dataset"
   ]
  },
  {
   "cell_type": "markdown",
   "id": "42e3cc2f",
   "metadata": {},
   "source": [
    "### Load data into Pandas Dataframe"
   ]
  },
  {
   "cell_type": "code",
   "execution_count": 18,
   "id": "590f2a4d",
   "metadata": {},
   "outputs": [],
   "source": [
    "train_df = pd.read_csv('train_data.csv')\n",
    "test_ann_df = pd.read_csv('test_data.csv')\n",
    "\n",
    "\n",
    "train_img_dir = 'train_images'\n",
    "test_img_dir = 'test_images'"
   ]
  },
  {
   "cell_type": "markdown",
   "id": "846d2b78",
   "metadata": {},
   "source": [
    "### Examine image and description in train_images"
   ]
  },
  {
   "cell_type": "code",
   "execution_count": 19,
   "id": "6bda70c4",
   "metadata": {},
   "outputs": [
    {
     "data": {
      "image/jpeg": "[encoded data removed]",
      "image/png": "[encoded data removed]",
      "text/plain": [
       "<PIL.Image.Image image mode=RGB size=64x64>"
      ]
     },
     "metadata": {},
     "output_type": "display_data"
    },
    {
     "name": "stdout",
     "output_type": "stream",
     "text": [
      "nature photograph of a dog, specifically a Maltese dog, Maltese terrier, Maltese, centered composition, photorealistic, 8k, the animal is fully visible within frame and not cut off\n"
     ]
    }
   ],
   "source": [
    "img_name = train_df['image'][0]\n",
    "img_path = os.path.join(\"./train_images\", img_name)\n",
    "image = Image.open(img_path).convert('RGB')\n",
    "display(image)\n",
    "description = train_df['description'][0]\n",
    "print(description)"
   ]
  },
  {
   "cell_type": "markdown",
   "id": "2e69bda1",
   "metadata": {},
   "source": [
    "### Examine transformations on a image"
   ]
  },
  {
   "cell_type": "code",
   "execution_count": 20,
   "id": "a0972878",
   "metadata": {},
   "outputs": [
    {
     "data": {
      "image/jpeg": "[encoded data removed]",
      "image/png": "[encoded data removed]",
      "text/plain": [
       "<PIL.Image.Image image mode=L size=256x256>"
      ]
     },
     "metadata": {},
     "output_type": "display_data"
    },
    {
     "data": {
      "text/plain": [
       "tensor([[[-0.5596, -0.5596, -0.6109,  ...,  0.6734,  0.5193,  0.5193],\n",
       "         [-0.5596, -0.5596, -0.6109,  ...,  0.6734,  0.5193,  0.5193],\n",
       "         [-0.6281, -0.6281, -0.6794,  ...,  0.6392,  0.4851,  0.4851],\n",
       "         ...,\n",
       "         [-0.5767, -0.5767, -0.5596,  ..., -1.4500, -1.4843, -1.4843],\n",
       "         [-0.6281, -0.6281, -0.6109,  ..., -1.4843, -1.5185, -1.5185],\n",
       "         [-0.6281, -0.6281, -0.6109,  ..., -1.4843, -1.5185, -1.5185]],\n",
       "\n",
       "        [[-0.4776, -0.4776, -0.5301,  ...,  0.9405,  0.7829,  0.7829],\n",
       "         [-0.4776, -0.4776, -0.5301,  ...,  0.9405,  0.7829,  0.7829],\n",
       "         [-0.5476, -0.5476, -0.6001,  ...,  0.9055,  0.7479,  0.7479],\n",
       "         ...,\n",
       "         [-0.8627, -0.8627, -0.8452,  ..., -1.3880, -1.4230, -1.4230],\n",
       "         [-0.9153, -0.9153, -0.8978,  ..., -1.4055, -1.4405, -1.4405],\n",
       "         [-0.9153, -0.9153, -0.8978,  ..., -1.4055, -1.4405, -1.4405]],\n",
       "\n",
       "        [[-0.4624, -0.4624, -0.5147,  ...,  1.4722,  1.3154,  1.3154],\n",
       "         [-0.4624, -0.4624, -0.5147,  ...,  1.4722,  1.3154,  1.3154],\n",
       "         [-0.5321, -0.5321, -0.5844,  ...,  1.4200,  1.2631,  1.2631],\n",
       "         ...,\n",
       "         [-1.3687, -1.3687, -1.3687,  ..., -1.2293, -1.2641, -1.2641],\n",
       "         [-1.4210, -1.4210, -1.4036,  ..., -1.2467, -1.2816, -1.2816],\n",
       "         [-1.4210, -1.4210, -1.4036,  ..., -1.2467, -1.2816, -1.2816]]])"
      ]
     },
     "metadata": {},
     "output_type": "display_data"
    }
   ],
   "source": [
    "image_preprocessing = transforms.Compose([\n",
    "    transforms.Resize((256,256)),\n",
    "    transforms.Grayscale(),\n",
    "    transforms.RandomRotation(180)\n",
    "])\n",
    "\n",
    "display(image_preprocessing(image))\n",
    "\n",
    "image_preprocessing = transforms.Compose([\n",
    "    transforms.Resize((256,256)),\n",
    "    transforms.ToTensor(),\n",
    "    transforms.Normalize(mean=[0.485, 0.456, 0.406], std=[0.229, 0.224, 0.225]), # this mean and std are one of the industry standards\n",
    "])\n",
    "\n",
    "transformed_image = image_preprocessing(image)\n",
    "display(transformed_image)\n"
   ]
  },
  {
   "cell_type": "markdown",
   "id": "b26ea0dc",
   "metadata": {},
   "source": [
    "### Examine tokenization and attention mask"
   ]
  },
  {
   "cell_type": "code",
   "execution_count": 21,
   "id": "04e80f4b",
   "metadata": {},
   "outputs": [
    {
     "name": "stdout",
     "output_type": "stream",
     "text": [
      "nature photograph of a dog, specifically a Maltese dog, Maltese terrier, Maltese, centered composition, photorealistic, 8k, the animal is fully visible within frame and not cut off\n",
      "tensor([  101,  3267,  9982,  1997,  1037,  3899,  1010,  4919,  1037, 18563,\n",
      "         3899,  1010, 18563, 26568,  2121,  1010, 18563,  1010,  8857,  5512,\n",
      "         1010,  6302, 22852,  6553,  1010,  1022,  2243,  1010,  1996,  4111,\n",
      "         2003,  3929,  5710,  2306,  4853,  1998,  2025,  3013,  2125,   102,\n",
      "            0,     0,     0,     0,     0,     0,     0,     0,     0,     0,\n",
      "            0,     0,     0,     0,     0,     0,     0,     0,     0,     0,\n",
      "            0,     0,     0,     0,     0,     0,     0,     0,     0,     0,\n",
      "            0,     0,     0,     0,     0,     0,     0,     0,     0,     0,\n",
      "            0,     0,     0,     0,     0,     0,     0,     0,     0,     0,\n",
      "            0,     0,     0,     0,     0,     0,     0,     0,     0,     0])\n",
      "tensor([1, 1, 1, 1, 1, 1, 1, 1, 1, 1, 1, 1, 1, 1, 1, 1, 1, 1, 1, 1, 1, 1, 1, 1,\n",
      "        1, 1, 1, 1, 1, 1, 1, 1, 1, 1, 1, 1, 1, 1, 1, 1, 0, 0, 0, 0, 0, 0, 0, 0,\n",
      "        0, 0, 0, 0, 0, 0, 0, 0, 0, 0, 0, 0, 0, 0, 0, 0, 0, 0, 0, 0, 0, 0, 0, 0,\n",
      "        0, 0, 0, 0, 0, 0, 0, 0, 0, 0, 0, 0, 0, 0, 0, 0, 0, 0, 0, 0, 0, 0, 0, 0,\n",
      "        0, 0, 0, 0])\n"
     ]
    }
   ],
   "source": [
    "description = train_df['description'][0]\n",
    "print(description)\n",
    "tokenizer = BertTokenizer.from_pretrained('bert-base-uncased')\n",
    "tokenized = tokenizer(description, padding='max_length', truncation=True, \n",
    "                                  max_length=100, return_tensors='pt')\n",
    "print(tokenized['input_ids'].squeeze())\n",
    "print(tokenized['attention_mask'].squeeze())"
   ]
  },
  {
   "cell_type": "markdown",
   "id": "54e31aa6",
   "metadata": {},
   "source": [
    "### Create and Examine Dataset"
   ]
  },
  {
   "cell_type": "code",
   "execution_count": 22,
   "id": "0f7616b2",
   "metadata": {},
   "outputs": [
    {
     "name": "stdout",
     "output_type": "stream",
     "text": [
      "tensor([[[-0.5596, -0.5596, -0.6109,  ...,  0.6734,  0.5193,  0.5193],\n",
      "         [-0.5596, -0.5596, -0.6109,  ...,  0.6734,  0.5193,  0.5193],\n",
      "         [-0.6281, -0.6281, -0.6794,  ...,  0.6392,  0.4851,  0.4851],\n",
      "         ...,\n",
      "         [-0.5767, -0.5767, -0.5596,  ..., -1.4500, -1.4843, -1.4843],\n",
      "         [-0.6281, -0.6281, -0.6109,  ..., -1.4843, -1.5185, -1.5185],\n",
      "         [-0.6281, -0.6281, -0.6109,  ..., -1.4843, -1.5185, -1.5185]],\n",
      "\n",
      "        [[-0.4776, -0.4776, -0.5301,  ...,  0.9405,  0.7829,  0.7829],\n",
      "         [-0.4776, -0.4776, -0.5301,  ...,  0.9405,  0.7829,  0.7829],\n",
      "         [-0.5476, -0.5476, -0.6001,  ...,  0.9055,  0.7479,  0.7479],\n",
      "         ...,\n",
      "         [-0.8627, -0.8627, -0.8452,  ..., -1.3880, -1.4230, -1.4230],\n",
      "         [-0.9153, -0.9153, -0.8978,  ..., -1.4055, -1.4405, -1.4405],\n",
      "         [-0.9153, -0.9153, -0.8978,  ..., -1.4055, -1.4405, -1.4405]],\n",
      "\n",
      "        [[-0.4624, -0.4624, -0.5147,  ...,  1.4722,  1.3154,  1.3154],\n",
      "         [-0.4624, -0.4624, -0.5147,  ...,  1.4722,  1.3154,  1.3154],\n",
      "         [-0.5321, -0.5321, -0.5844,  ...,  1.4200,  1.2631,  1.2631],\n",
      "         ...,\n",
      "         [-1.3687, -1.3687, -1.3687,  ..., -1.2293, -1.2641, -1.2641],\n",
      "         [-1.4210, -1.4210, -1.4036,  ..., -1.2467, -1.2816, -1.2816],\n",
      "         [-1.4210, -1.4210, -1.4036,  ..., -1.2467, -1.2816, -1.2816]]])\n",
      "tensor([  101,  3267,  9982,  1997,  1037,  3899,  1010,  4919,  1037, 18563,\n",
      "         3899,  1010, 18563, 26568,  2121,  1010, 18563,  1010,  8857,  5512,\n",
      "         1010,  6302, 22852,  6553,  1010,  1022,  2243,  1010,  1996,  4111,\n",
      "         2003,  3929,  5710,  2306,  4853,  1998,  2025,  3013,  2125,   102,\n",
      "            0,     0,     0,     0,     0,     0,     0,     0,     0,     0,\n",
      "            0,     0,     0,     0,     0,     0,     0,     0,     0,     0,\n",
      "            0,     0,     0,     0,     0,     0,     0,     0,     0,     0,\n",
      "            0,     0,     0,     0,     0,     0,     0,     0,     0,     0,\n",
      "            0,     0,     0,     0,     0,     0,     0,     0,     0,     0,\n",
      "            0,     0,     0,     0,     0,     0,     0,     0,     0,     0])\n",
      "tensor([1, 1, 1, 1, 1, 1, 1, 1, 1, 1, 1, 1, 1, 1, 1, 1, 1, 1, 1, 1, 1, 1, 1, 1,\n",
      "        1, 1, 1, 1, 1, 1, 1, 1, 1, 1, 1, 1, 1, 1, 1, 1, 0, 0, 0, 0, 0, 0, 0, 0,\n",
      "        0, 0, 0, 0, 0, 0, 0, 0, 0, 0, 0, 0, 0, 0, 0, 0, 0, 0, 0, 0, 0, 0, 0, 0,\n",
      "        0, 0, 0, 0, 0, 0, 0, 0, 0, 0, 0, 0, 0, 0, 0, 0, 0, 0, 0, 0, 0, 0, 0, 0,\n",
      "        0, 0, 0, 0])\n"
     ]
    }
   ],
   "source": [
    "image_preprocessing = transforms.Compose([\n",
    "    transforms.Resize((256,256)),\n",
    "    transforms.ToTensor(),\n",
    "    transforms.Normalize(mean=[0.485, 0.456, 0.406], std=[0.229, 0.224, 0.225]),\n",
    "])\n",
    "\n",
    "# Create train and val split\n",
    "train_dataset = MultiClassImageDataset(train_df, train_img_dir, transform=image_preprocessing)\n",
    "\n",
    "image, token, mask = train_dataset[0]\n",
    "print(image)\n",
    "print(token)\n",
    "print(mask)"
   ]
  },
  {
   "cell_type": "markdown",
   "id": "90eb0889",
   "metadata": {},
   "source": [
    "### Create Dataloader from dataset"
   ]
  },
  {
   "cell_type": "code",
   "execution_count": 23,
   "id": "6f9219ba",
   "metadata": {},
   "outputs": [],
   "source": [
    "# Create dataloader (A torch class that makes it much easier to apply dataset level transformations (shuffling, batches))\n",
    "batch_size = 64\n",
    "train_loader = DataLoader(train_dataset, \n",
    "                          batch_size=batch_size, \n",
    "                          shuffle=True)"
   ]
  },
  {
   "cell_type": "markdown",
   "id": "3e2fe0de",
   "metadata": {},
   "source": [
    "# Set up model(s) for contrastive learning\n",
    "\n",
    "In this setup I will largely mimic CLIP. For this I will leverage the pre-trained models BERT and ResNet50 (although you could train from scratch). This will be one class which will encapsilate all forward passes for contrastive learning. Specifically:\n",
    "\n",
    "- Pretrained Models:\n",
    "    - BERT: A Encoder transformer, that will be used to get good embeddings for the descriptions (extract (CLS) token, also refered to as pooler_output)\n",
    "    - ResNet50: A CNN for originally created for 1000 dimesional classification, will replace final layer in network to match embedding size of BERT\n",
    "    - These model weights will be frozen during training and a projection matrix (or layers) will be trained to get the latent embeddings\n",
    "- Projection Matrices:\n",
    "    - Text projection: It will be one feed forward layer appended to the end of BERT\n",
    "    - Image projections: It will be one feed forward layer replacing the last layer in ResNet50\n",
    "    - These projection matrices will not have a non-linear activation functions (making them linear projections w.r.t. the outputs of connected model)"
   ]
  },
  {
   "cell_type": "code",
   "execution_count": 34,
   "id": "c0d472e7",
   "metadata": {},
   "outputs": [],
   "source": [
    "class ConstrastiveModel(nn.Module):\n",
    "    \"\"\"\n",
    "    One class that will hold all NN models and layers including BERT, ResNet50, Image projection and text projection\n",
    "    \"\"\"\n",
    "\n",
    "    def __init__(self):\n",
    "        \"\"\"\n",
    "        Creates the torch Module and will initilize all models and projections needed.\n",
    "        \"\"\"\n",
    "        super(ConstrastiveModel, self).__init__()\n",
    "        # Load pre-trained BERT for text encoding\n",
    "        self.text_encoder = BertModel.from_pretrained('bert-base-uncased')\n",
    "        # Load pre-trained ResNet for image encoding\n",
    "        self.image_encoder = resnet50(pretrained=True)\n",
    "        # Replace final fc layer to match embedding dimension with text encoder\n",
    "        # I found that this is important to do bc ResNet50 is trained for classification. We don't want this output. Replacing the last layer might help it \"forget\" this\n",
    "        embedding_dim = self.text_encoder.config.hidden_size # I found that they have this online\n",
    "        self.image_encoder.fc = nn.Linear(self.image_encoder.fc.in_features, embedding_dim) # as for this - checkout the _init_ method in https://github.com/pytorch/vision/blob/main/torchvision/models/resnet.py#L284\n",
    "\n",
    "        # Projection layers to align embeddings\n",
    "        self.text_projection = nn.Linear(embedding_dim, embedding_dim)\n",
    "        self.image_projection = nn.Linear(embedding_dim, embedding_dim)\n",
    "\n",
    "    def encode_descriptions(self, tokens, attention_mask):\n",
    "        # get the embedding of the description from BERT\n",
    "        output = self.text_encoder(input_ids=tokens, \n",
    "                                   attention_mask=attention_mask,\n",
    "                                   return_dict=True)\n",
    "        # Use [CLS] token embedding as text representation\n",
    "        text_features = output.last_hidden_state[:, 0, :]\n",
    "        # now apply the projection layer to the embedding\n",
    "        text_features = self.text_projection(text_features)\n",
    "\n",
    "        return text_features\n",
    "\n",
    "    def encode_image(self, image):\n",
    "        # Get image embedding after applying resnet\n",
    "        image = self.image_encoder(image)\n",
    "        # Now apply projection  layer to the embedding\n",
    "        image = self.image_projection(image)\n",
    "\n",
    "        return image\n",
    "\n",
    "    def forward(self, image, tokens, attention_mask):\n",
    "        # get latent space encodings for image and description\n",
    "        text_encoding = self.encode_descriptions(tokens, attention_mask)\n",
    "        image_encoding = self.encode_image(image)\n",
    "        \n",
    "        return image_encoding, text_encoding\n"
   ]
  },
  {
   "cell_type": "markdown",
   "id": "52ba1909",
   "metadata": {},
   "source": [
    "## Examine new embedding models (BERT, ResNet50)"
   ]
  },
  {
   "cell_type": "markdown",
   "id": "bbc4c54e",
   "metadata": {},
   "source": [
    "### Examine BERT"
   ]
  },
  {
   "cell_type": "code",
   "execution_count": null,
   "id": "8fe4a8b2",
   "metadata": {},
   "outputs": [
    {
     "name": "stderr",
     "output_type": "stream",
     "text": [
      "/opt/miniconda3/lib/python3.12/site-packages/torchvision/models/_utils.py:208: UserWarning: The parameter 'pretrained' is deprecated since 0.13 and may be removed in the future, please use 'weights' instead.\n",
      "  warnings.warn(\n",
      "/opt/miniconda3/lib/python3.12/site-packages/torchvision/models/_utils.py:223: UserWarning: Arguments other than a weight enum or `None` for 'weights' are deprecated since 0.13 and may be removed in the future. The current behavior is equivalent to passing `weights=ResNet50_Weights.IMAGENET1K_V1`. You can also use `weights=ResNet50_Weights.DEFAULT` to get the most up-to-date weights.\n",
      "  warnings.warn(msg)\n"
     ]
    },
    {
     "name": "stdout",
     "output_type": "stream",
     "text": [
      "torch.Size([1, 100])\n",
      "torch.Size([768])\n",
      "tensor([-0.7247, -0.1824, -0.2228, -0.2153,  0.0441], grad_fn=<SliceBackward0>)\n",
      "torch.Size([768])\n",
      "tensor([-0.0326,  0.1654, -0.0862,  0.4329,  0.2358], grad_fn=<SliceBackward0>)\n"
     ]
    }
   ],
   "source": [
    "constrastivemodel = ConstrastiveModel()\n",
    "\n",
    "image, tokens, att_mask = train_dataset[0]\n",
    "# add batch dimesnsion\n",
    "tokens = tokens.unsqueeze(0)\n",
    "att_mask = att_mask.unsqueeze(0)\n",
    "print(tokens.shape)\n",
    "bert_output = constrastivemodel.text_encoder(tokens, att_mask).last_hidden_state[0,0,:]\n",
    "print(bert_output.shape)\n",
    "print(bert_output[:5])\n",
    "\n",
    "projection_output = constrastivemodel.text_projection(bert_output)\n",
    "print(projection_output.shape)\n",
    "print(projection_output[:5])"
   ]
  },
  {
   "cell_type": "markdown",
   "id": "5fe9aa65",
   "metadata": {},
   "source": [
    "### Examine ResNet50"
   ]
  },
  {
   "cell_type": "code",
   "execution_count": null,
   "id": "ed76950a",
   "metadata": {},
   "outputs": [
    {
     "name": "stdout",
     "output_type": "stream",
     "text": [
      "torch.Size([3, 256, 256])\n",
      "original: torch.Size([1000])\n",
      "torch.Size([768])\n",
      "tensor([-0.2769, -0.2224, -0.0710, -0.3389,  0.0983], grad_fn=<SliceBackward0>)\n",
      "torch.Size([768])\n",
      "tensor([-0.2101, -0.1238,  0.1176,  0.0182, -0.1285], grad_fn=<SliceBackward0>)\n"
     ]
    }
   ],
   "source": [
    "print(image.shape)\n",
    "image_batch = image.unsqueeze(0)\n",
    "original_encoding = resnet50(pretrained=True)(image_batch)[0]\n",
    "print(f\"original: {original_encoding.shape}\")\n",
    "image_encoding = constrastivemodel.image_encoder(image_batch)[0,:]\n",
    "print(image_encoding.shape)\n",
    "print(image_encoding[:5])\n",
    "image_encoding  = constrastivemodel.image_projection(image_encoding)\n",
    "print(image_encoding.shape)\n",
    "print(image_encoding[:5])"
   ]
  },
  {
   "cell_type": "markdown",
   "id": "6406f1bd",
   "metadata": {},
   "source": [
    "# Creating contrastive Loss function\n",
    "\n",
    "Based on the SimClr paper, the constrastive loss is:\n",
    "\n",
    "- $l_{i,j} = \\frac{exp({cosSim(z_i,z_j)/\\tau})}{\\sum_{k=1}^{2N}\\mathbb{1}_{k \\neq j} exp(cosSim(z_i,z_k)/ \\tau)}$\n",
    "\n",
    "This part of the code will implement the constrastive loss. I will follow the code in the CLIP paper, look at paper to see the code I am mirroring"
   ]
  },
  {
   "cell_type": "code",
   "execution_count": 25,
   "id": "443e9286",
   "metadata": {},
   "outputs": [],
   "source": [
    "class ContrastiveLoss(nn.Module):\n",
    "    \"\"\"\n",
    "    This class will implement the contrastive loss presented in SimClr and follow the implementation in CLIP\n",
    "    It is important to have this implemented as a module so that we can set an optimizer and compute backprop\n",
    "    \"\"\"\n",
    "\n",
    "    def __init__(self, temp=0.01, device=\"cuda\"):\n",
    "        \"\"\"\n",
    "        Initialize the loss, uses cross-entropy and needs a tempature to be set.\n",
    "        \"\"\"\n",
    "        super(ContrastiveLoss, self).__init__()\n",
    "        self.temp = temp\n",
    "        self.cross_entropy = nn.CrossEntropyLoss()\n",
    "        self.device = device\n",
    "\n",
    "    def forward(self, image_encoding, text_encoding):\n",
    "        \"\"\"\n",
    "        implements the contrastive loss function\n",
    "        \"\"\"\n",
    "        # important to determine positive pairs within the batch\n",
    "        batch_size = image_encoding.shape[0]\n",
    "\n",
    "        # Ensure features are normalized for proper cosine similarity (uses L2 norm) (set dim 1 to avoid batch)\n",
    "        image_encoding = F.normalize(image_encoding, p=2, dim=1)\n",
    "        text_encoding = F.normalize(text_encoding, p=2, dim=1)\n",
    "\n",
    "        # Calculate cosine similarity between all image-text pairs (since each are normalized, just dot product)\n",
    "        # Since vectors are normalized, dot product equals cosine similarity\n",
    "        logits = torch.matmul(image_encoding, text_encoding.T) / self.temp\n",
    "\n",
    "        # Labels for both directions (image->text and text->image)\n",
    "        # We want the diagonal elements to match (each image with its corresponding text)\n",
    "        labels = torch.arange(batch_size, device=self.device)\n",
    "\n",
    "        # Calculate loss in both directions and average\n",
    "        image_to_text_loss = self.cross_entropy(logits, labels)\n",
    "        text_to_image_loss = self.cross_entropy(logits.T, labels)\n",
    "\n",
    "        # Total loss is the average of both directions\n",
    "        total_loss = (image_to_text_loss + text_to_image_loss) / 2.0\n",
    "\n",
    "        return total_loss\n",
    "\n",
    "    "
   ]
  },
  {
   "cell_type": "markdown",
   "id": "17c21fe5",
   "metadata": {},
   "source": [
    "## Examine Contrastive loss"
   ]
  },
  {
   "cell_type": "code",
   "execution_count": null,
   "id": "5745647b",
   "metadata": {},
   "outputs": [
    {
     "name": "stdout",
     "output_type": "stream",
     "text": [
      "Embedding Shape: torch.Size([3, 2])\n",
      "Loss with large difference embeddings (should be high):\n",
      "tensor(2.6807, device='mps:0')\n",
      "Loss with small diff (but noisy) embeddings (medium):\n",
      "tensor(1.0838, device='mps:0')\n",
      "Loss with small diff and aligned positives (should be lowest):\n",
      "tensor(0.8588, device='mps:0')\n"
     ]
    }
   ],
   "source": [
    "device = \"cpu\"\n",
    "try:\n",
    "    if torch.cuda.is_available():\n",
    "        device = \"cuda\"\n",
    "    elif torch.mps.is_available():\n",
    "        device = \"mps\"\n",
    "except:\n",
    "    device = \"cpu\"\n",
    "\n",
    "\n",
    "loss = ContrastiveLoss(device=device)\n",
    "\n",
    "\n",
    "# Anchor embeddings (e.g., original samples)\n",
    "embedding_one = torch.tensor(np.array([\n",
    "    [2, 3],    # Sample 1\n",
    "    [5, 6],    # Sample 2\n",
    "    [9, 8]     # Sample 3\n",
    "]), dtype=torch.float32).to(device)\n",
    "\n",
    "# Large difference (should have high loss) — represents **negatives**\n",
    "embedding_large_diff = torch.tensor(np.array([\n",
    "    [9, 8],    # Far from [2,3]\n",
    "    [15, 16],  # Far from [5,6]\n",
    "    [2, 3]     # Far from [9,8]\n",
    "]), dtype=torch.float32).to(device)\n",
    "\n",
    "# Small difference (still a bit off) — represents **imperfect positives**\n",
    "embedding_small_diff_all = torch.tensor(np.array([\n",
    "    [5, 6],     # Close to [2,3]\n",
    "    [2, 3],     # Close to [5,6]\n",
    "    [11, 12]    # Close to [9,8]\n",
    "]), dtype=torch.float32).to(device)\n",
    "\n",
    "# Small difference and semantically meaningful (best case positives)\n",
    "embedding_small_diff_positive = torch.tensor(np.array([\n",
    "    [3, 4],     # Very close to [2,3]\n",
    "    [5, 6],     # Exactly matches\n",
    "    [8, 9]      # Very close to [9,8]\n",
    "]), dtype=torch.float32).to(device)\n",
    "\n",
    "print(\"Embedding Shape:\", embedding_one.shape)\n",
    "\n",
    "# Loss comparisons\n",
    "print(\"Loss with large difference embeddings (should be high):\")\n",
    "print(loss(embedding_one, embedding_large_diff))\n",
    "\n",
    "print(\"Loss with small diff (but noisy) embeddings (medium):\")\n",
    "print(loss(embedding_one, embedding_small_diff_all))\n",
    "\n",
    "print(\"Loss with small diff and aligned positives (should be lowest):\")\n",
    "print(loss(embedding_one, embedding_small_diff_positive))\n",
    "\n",
    "# One thing to try is to play with the tempature, I noticed the larger the temapture the more difference in these (better signal)\n",
    "# So larger tempature probably means faster convergence (to a point)"
   ]
  },
  {
   "cell_type": "markdown",
   "id": "22d16f68",
   "metadata": {},
   "source": [
    "# Training the model\n",
    "\n",
    "Using all that has been implemented beforehand, create a training function for the models using contrastive learning"
   ]
  },
  {
   "cell_type": "code",
   "execution_count": null,
   "id": "cf20baf9",
   "metadata": {},
   "outputs": [],
   "source": [
    "def train(model, train_loader, optimizer, epochs=5, device=\"mps\"):\n",
    "    model.to(device)\n",
    "    contrasitve_loss = ContrastiveLoss(device=device)\n",
    "    for epoch in range(epochs):\n",
    "        total_loss = 0\n",
    "        for batch_idx, (images, tokens, att_mask) in enumerate(train_loader):\n",
    "            # move data to correct device\n",
    "            images = images.to(device)\n",
    "            tokens = tokens.to(device)\n",
    "            att_mask = att_mask.to(device)\n",
    "\n",
    "            # clear optimizer gradients\n",
    "            optimizer.zero_grad()\n",
    "\n",
    "            # compute forward pass\n",
    "            image_embedding, text_embedding = model(images, tokens, att_mask)\n",
    "\n",
    "            # compute loss\n",
    "            loss = contrasitve_loss(image_embedding, text_embedding)\n",
    "\n",
    "            # compute gradient and update weights\n",
    "            loss.backward()\n",
    "            optimizer.step()\n",
    "            # add to loss\n",
    "            total_loss += loss.item()\n",
    "\n",
    "            if (batch_idx+1) % 25 == 0:\n",
    "                print(f\"Epoch {epoch+1}/{epochs}, Batch {batch_idx}/{len(train_loader)}, Loss: {loss.item():.4f}\")\n",
    "        \n",
    "        print(f\"Epoch {epoch+1}/{epochs}, Average Loss: {total_loss/len(train_loader):.4f}\")\n",
    "    \n",
    "    return model"
   ]
  },
  {
   "cell_type": "markdown",
   "id": "ca92f9e9",
   "metadata": {},
   "source": [
    "## Training the model"
   ]
  },
  {
   "cell_type": "code",
   "execution_count": null,
   "id": "b4fed77a",
   "metadata": {},
   "outputs": [
    {
     "name": "stdout",
     "output_type": "stream",
     "text": [
      "Epoch 1/5, Batch 0/99, Loss: 5.3535\n",
      "Epoch 1/5, Batch 25/99, Loss: 3.4983\n",
      "Epoch 1/5, Batch 50/99, Loss: 2.7497\n",
      "Epoch 1/5, Batch 75/99, Loss: 2.3169\n",
      "Epoch 1/5, Average Loss: 2.9531\n",
      "Epoch 2/5, Batch 0/99, Loss: 1.8774\n",
      "Epoch 2/5, Batch 25/99, Loss: 1.2132\n",
      "Epoch 2/5, Batch 50/99, Loss: 1.4958\n",
      "Epoch 2/5, Batch 75/99, Loss: 1.3100\n",
      "Epoch 2/5, Average Loss: 1.4716\n",
      "Epoch 3/5, Batch 0/99, Loss: 0.9326\n",
      "Epoch 3/5, Batch 25/99, Loss: 0.9663\n",
      "Epoch 3/5, Batch 50/99, Loss: 1.1032\n",
      "Epoch 3/5, Batch 75/99, Loss: 1.0909\n",
      "Epoch 3/5, Average Loss: 1.0587\n",
      "Epoch 4/5, Batch 0/99, Loss: 1.1936\n",
      "Epoch 4/5, Batch 25/99, Loss: 0.9335\n",
      "Epoch 4/5, Batch 50/99, Loss: 0.8251\n",
      "Epoch 4/5, Batch 75/99, Loss: 0.9209\n",
      "Epoch 4/5, Average Loss: 0.9316\n",
      "Epoch 5/5, Batch 0/99, Loss: 0.9327\n",
      "Epoch 5/5, Batch 25/99, Loss: 0.9538\n",
      "Epoch 5/5, Batch 50/99, Loss: 0.8010\n",
      "Epoch 5/5, Batch 75/99, Loss: 0.9605\n",
      "Epoch 5/5, Average Loss: 0.8684\n"
     ]
    }
   ],
   "source": [
    "\n",
    "# Initialize model\n",
    "model = ConstrastiveModel()\n",
    "\n",
    "# Setup optimizer\n",
    "# Only train the projection layers and the ResNet fc layer, keep pre-trained weights frozen\n",
    "params_to_train = list(model.text_projection.parameters()) + \\\n",
    "                    list(model.image_projection.parameters()) + \\\n",
    "                    list(model.image_encoder.fc.parameters())\n",
    "\n",
    "optimizer = optim.AdamW(params_to_train, lr=5e-5)\n",
    "\n",
    "\n",
    "# Train model\n",
    "model = train(model, train_loader, optimizer)\n",
    "\n"
   ]
  },
  {
   "cell_type": "code",
   "execution_count": 70,
   "id": "a1188914",
   "metadata": {},
   "outputs": [
    {
     "name": "stdout",
     "output_type": "stream",
     "text": [
      "Epoch 1/5, Batch 0/99, Loss: 0.6650\n",
      "Epoch 1/5, Batch 25/99, Loss: 0.6222\n",
      "Epoch 1/5, Batch 50/99, Loss: 0.6790\n",
      "Epoch 1/5, Batch 75/99, Loss: 0.6613\n",
      "Epoch 1/5, Average Loss: 0.6629\n",
      "Epoch 2/5, Batch 0/99, Loss: 0.5310\n",
      "Epoch 2/5, Batch 25/99, Loss: 0.5350\n",
      "Epoch 2/5, Batch 50/99, Loss: 0.6638\n",
      "Epoch 2/5, Batch 75/99, Loss: 0.6737\n",
      "Epoch 2/5, Average Loss: 0.6646\n",
      "Epoch 3/5, Batch 0/99, Loss: 0.6811\n",
      "Epoch 3/5, Batch 25/99, Loss: 0.7040\n",
      "Epoch 3/5, Batch 50/99, Loss: 0.4731\n",
      "Epoch 3/5, Batch 75/99, Loss: 0.6018\n",
      "Epoch 3/5, Average Loss: 0.6292\n",
      "Epoch 4/5, Batch 0/99, Loss: 0.6711\n",
      "Epoch 4/5, Batch 25/99, Loss: 0.6219\n",
      "Epoch 4/5, Batch 50/99, Loss: 0.5560\n",
      "Epoch 4/5, Batch 75/99, Loss: 0.7029\n",
      "Epoch 4/5, Average Loss: 0.6339\n",
      "Epoch 5/5, Batch 0/99, Loss: 0.5868\n",
      "Epoch 5/5, Batch 25/99, Loss: 0.7599\n",
      "Epoch 5/5, Batch 50/99, Loss: 0.7516\n",
      "Epoch 5/5, Batch 75/99, Loss: 0.6210\n",
      "Epoch 5/5, Average Loss: 0.6399\n"
     ]
    }
   ],
   "source": [
    "# needed to run four times total to see good results\n",
    "model = train(model, train_loader, optimizer)"
   ]
  },
  {
   "cell_type": "code",
   "execution_count": 71,
   "id": "f42f5699",
   "metadata": {},
   "outputs": [],
   "source": [
    "# Save trained model\n",
    "torch.save(model.state_dict(), \"models/clip_model.pth\")"
   ]
  },
  {
   "cell_type": "markdown",
   "id": "70a1a5be",
   "metadata": {},
   "source": [
    "# How to use this for downstream tasks: classification\n",
    "\n",
    "The idea here is that for a given image, you get the models embedding. Then you can try several possible text prompts available from the training data to pass into the text encoder. For each image embedding, text embedding pair take the cosine simularity between them and the one with the highest value is the answer. For example:\n",
    "\n",
    "- cosineSim(embedded_img_french_bulldog, embedded_description_german_shepard) = 0.6\n",
    "- cosineSim(embedded_img_french_bulldog, embedded_description_cat) = 0.2\n",
    "- cosineSim(embedded_img_french_bulldog, embedded_description_french_bulldog) = 0.9\n",
    "\n",
    "The label would then be french_bulldog"
   ]
  },
  {
   "cell_type": "code",
   "execution_count": 74,
   "id": "8aabaa2a",
   "metadata": {},
   "outputs": [
    {
     "name": "stdout",
     "output_type": "stream",
     "text": [
      "The value for the correct description: 0.21726536750793457\n",
      "The value for a description of another dog breed: 0.20572520792484283\n",
      "The value for a description of a bird: 0.18783292174339294\n"
     ]
    }
   ],
   "source": [
    "image, _, _ = train_dataset[3]\n",
    "description_correct =  \"nature photograph of a dog, specifically a Shih-Tzu, centered composition, photorealistic, 8k, the animal is fully visible within frame and not cut off\"\n",
    "description_correct_tokenize = tokenizer(description_correct, padding='max_length', truncation=True, \n",
    "                                  max_length=100, return_tensors='pt')\n",
    "\n",
    "description_another_dog = \"nature photograph of a dog, specifically a Afghan hound, Afghan, centered composition, photorealistic, 8k, the animal is fully visible within frame and not cut off\"\n",
    "description_another_dog_tokenize = tokenizer(description_another_dog, padding='max_length', truncation=True, \n",
    "                                  max_length=100, return_tensors='pt')\n",
    "\n",
    "description_bird = \"nature photograph of a bird, specifically a oystercatcher, oyster catcher, centered composition, photorealistic, 8k, the animal is fully visible within frame and not cut off\"\n",
    "description_bird_tokenize = tokenizer(description_bird, padding='max_length', truncation=True, \n",
    "                                  max_length=100, return_tensors='pt')\n",
    "\n",
    "\n",
    "image_embedding = model.encode_image(image.unsqueeze(0).to(\"mps\"))[0,:]\n",
    "\n",
    "image_embedding = F.normalize(image_embedding, p=2, dim=0)\n",
    "\n",
    "description_correct_embedding = model.encode_descriptions(\n",
    "    description_correct_tokenize['input_ids'].to(\"mps\"),\n",
    "    description_correct_tokenize['attention_mask'].to(\"mps\"),\n",
    "    )[0,:]\n",
    "\n",
    "description_correct_embedding = F.normalize(description_correct_embedding, p=2, dim=0)\n",
    "\n",
    "description_another_dog_embedding = model.encode_descriptions(\n",
    "    description_another_dog_tokenize['input_ids'].to(\"mps\"),\n",
    "    description_another_dog_tokenize['attention_mask'].to(\"mps\"),\n",
    "    )[0,:]\n",
    "\n",
    "description_another_dog_embedding = F.normalize(description_another_dog_embedding, p=2, dim=0)\n",
    "\n",
    "description_bird_embedding = model.encode_descriptions(\n",
    "    description_bird_tokenize['input_ids'].to(\"mps\"),\n",
    "    description_bird_tokenize['attention_mask'].to(\"mps\"),\n",
    "    )[0,:]\n",
    "\n",
    "description_bird_embedding = F.normalize(description_bird_embedding, p=2, dim=0)\n",
    "\n",
    "correct_value = torch.dot(image_embedding, description_correct_embedding)\n",
    "another_dog_value = torch.dot(image_embedding, description_another_dog_embedding)\n",
    "bird_value = torch.dot(image_embedding, description_bird_embedding)\n",
    "\n",
    "print(f\"The value for the correct description: {correct_value}\\nThe value for a description of another dog breed: {another_dog_value}\\nThe value for a description of a bird: {bird_value}\")\n",
    " \n",
    "\n"
   ]
  }
 ],
 "metadata": {
  "kernelspec": {
   "display_name": "base",
   "language": "python",
   "name": "python3"
  },
  "language_info": {
   "codemirror_mode": {
    "name": "ipython",
    "version": 3
   },
   "file_extension": ".py",
   "mimetype": "text/x-python",
   "name": "python",
   "nbconvert_exporter": "python",
   "pygments_lexer": "ipython3",
   "version": "3.12.4"
  }
 },
 "nbformat": 4,
 "nbformat_minor": 5
}
